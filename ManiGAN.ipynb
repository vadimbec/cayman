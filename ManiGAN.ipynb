{
  "nbformat": 4,
  "nbformat_minor": 0,
  "metadata": {
    "colab": {
      "name": "ManiGAN.ipynb",
      "provenance": [],
      "mount_file_id": "1FPZcjR2lJONKPorjyUCVsOS1EcUq1yzx",
      "authorship_tag": "ABX9TyMPqTfKbUuw74zPUEaaCFWE",
      "include_colab_link": true
    },
    "kernelspec": {
      "name": "python3",
      "display_name": "Python 3"
    },
    "language_info": {
      "name": "python"
    },
    "accelerator": "GPU"
  },
  "cells": [
    {
      "cell_type": "markdown",
      "metadata": {
        "id": "view-in-github",
        "colab_type": "text"
      },
      "source": [
        "<a href=\"https://colab.research.google.com/github/vadimbec/cayman/blob/master/ManiGAN.ipynb\" target=\"_parent\"><img src=\"https://colab.research.google.com/assets/colab-badge.svg\" alt=\"Open In Colab\"/></a>"
      ]
    },
    {
      "cell_type": "code",
      "metadata": {
        "colab": {
          "base_uri": "https://localhost:8080/"
        },
        "id": "eH-J3jfK_v9u",
        "outputId": "8f87ff16-5877-4f1b-e4d1-4d32cc819b81"
      },
      "source": [
        "!git clone https://github.com/mrlibw/Lightweight-Manipulation"
      ],
      "execution_count": 1,
      "outputs": [
        {
          "output_type": "stream",
          "name": "stdout",
          "text": [
            "Cloning into 'Lightweight-Manipulation'...\n",
            "remote: Enumerating objects: 31, done.\u001b[K\n",
            "remote: Counting objects: 100% (31/31), done.\u001b[K\n",
            "remote: Compressing objects: 100% (24/24), done.\u001b[K\n",
            "remote: Total 31 (delta 5), reused 31 (delta 5), pack-reused 0\u001b[K\n",
            "Unpacking objects: 100% (31/31), done.\n"
          ]
        }
      ]
    },
    {
      "cell_type": "code",
      "metadata": {
        "id": "UU0gPb7rUF1w"
      },
      "source": [
        "import os\n",
        "os.chdir('Lightweight-Manipulation/')\n",
        "os.mkdir('data')\n",
        "os.chdir('data/')"
      ],
      "execution_count": 2,
      "outputs": []
    },
    {
      "cell_type": "code",
      "metadata": {
        "colab": {
          "base_uri": "https://localhost:8080/",
          "height": 35
        },
        "id": "tnN4bII7FrPp",
        "outputId": "67827c26-6bd6-4e3a-ddf3-59e513232e83"
      },
      "source": [
        "pwd"
      ],
      "execution_count": 31,
      "outputs": [
        {
          "output_type": "execute_result",
          "data": {
            "application/vnd.google.colaboratory.intrinsic+json": {
              "type": "string"
            },
            "text/plain": [
              "'/content/Lightweight-Manipulation/data'"
            ]
          },
          "metadata": {},
          "execution_count": 31
        }
      ]
    },
    {
      "cell_type": "code",
      "metadata": {
        "id": "hdzHf6-PFsKy"
      },
      "source": [
        "os.chdir('../data')"
      ],
      "execution_count": 30,
      "outputs": []
    },
    {
      "cell_type": "code",
      "metadata": {
        "colab": {
          "base_uri": "https://localhost:8080/"
        },
        "id": "YTO76ge6VMwC",
        "outputId": "0460c432-e0e0-43d0-fb1b-4030d2a256c8"
      },
      "source": [
        "!cp /content/drive/MyDrive/coco.zip /content/Lightweight-Manipulation/data/\n",
        "!unzip coco.zip\n",
        "rm coco.zip"
      ],
      "execution_count": 3,
      "outputs": [
        {
          "output_type": "stream",
          "name": "stdout",
          "text": [
            "Archive:  coco.zip\n",
            "   creating: coco/\n",
            "  inflating: __MACOSX/._coco         \n",
            "  inflating: coco/train2014-text.zip  \n",
            "  inflating: __MACOSX/coco/._train2014-text.zip  \n",
            "   creating: coco/test/\n",
            "  inflating: __MACOSX/coco/._test    \n",
            "  inflating: coco/val2014-text.zip   \n",
            "  inflating: __MACOSX/coco/._val2014-text.zip  \n",
            "  inflating: coco/captions.pickle    \n",
            "  inflating: __MACOSX/coco/._captions.pickle  \n",
            "  inflating: coco/README             \n",
            "  inflating: __MACOSX/coco/._README  \n",
            "   creating: coco/train/\n",
            "  inflating: __MACOSX/coco/._train   \n",
            "  inflating: coco/example_filenames.txt  \n",
            "  inflating: __MACOSX/coco/._example_filenames.txt  \n",
            "  inflating: coco/test/filenames.pickle  \n",
            "  inflating: __MACOSX/coco/test/._filenames.pickle  \n",
            "  inflating: coco/train/filenames.pickle  \n",
            "  inflating: __MACOSX/coco/train/._filenames.pickle  \n"
          ]
        }
      ]
    },
    {
      "cell_type": "code",
      "metadata": {
        "id": "kAC6DOaELbYx"
      },
      "source": [
        "os.chdir('coco/')\n",
        "!wget http://images.cocodataset.org/zips/train2014.zip\n",
        "!unzip train2014.zip\n",
        "os.rename('train2014', 'images')"
      ],
      "execution_count": null,
      "outputs": []
    },
    {
      "cell_type": "code",
      "metadata": {
        "id": "rKKO7pxsEvDQ"
      },
      "source": [
        "os.chdir('../../code')"
      ],
      "execution_count": 58,
      "outputs": []
    },
    {
      "cell_type": "code",
      "metadata": {
        "colab": {
          "base_uri": "https://localhost:8080/"
        },
        "id": "3m5es3vMAG2d",
        "outputId": "59b4443c-4b64-4e7f-f766-5ce68aef077d"
      },
      "source": [
        "!python pretrain_DAMSM.py --cfg cfg/DAMSM/coco.yml --gpu 0"
      ],
      "execution_count": 60,
      "outputs": [
        {
          "output_type": "stream",
          "name": "stdout",
          "text": [
            "[nltk_data] Downloading package punkt to /root/nltk_data...\n",
            "[nltk_data]   Package punkt is already up-to-date!\n",
            "[nltk_data] Downloading package averaged_perceptron_tagger to\n",
            "[nltk_data]     /root/nltk_data...\n",
            "[nltk_data]   Package averaged_perceptron_tagger is already up-to-\n",
            "[nltk_data]       date!\n",
            "Using config:\n",
            "{'B_VALIDATION': False,\n",
            " 'CONFIG_NAME': 'DAMSM',\n",
            " 'CUDA': True,\n",
            " 'DATASET_NAME': 'coco',\n",
            " 'DATA_DIR': '../data/coco',\n",
            " 'GAN': {'B_ATTENTION': True,\n",
            "         'B_DCGAN': False,\n",
            "         'CONDITION_DIM': 100,\n",
            "         'DF_DIM': 64,\n",
            "         'GF_DIM': 128,\n",
            "         'R_NUM': 2,\n",
            "         'Z_DIM': 100},\n",
            " 'GPU_ID': 0,\n",
            " 'RNN_TYPE': 'LSTM',\n",
            " 'TEXT': {'CAPTIONS_PER_IMAGE': 5, 'EMBEDDING_DIM': 256, 'WORDS_NUM': 15},\n",
            " 'TRAIN': {'BATCH_SIZE': 48,\n",
            "           'B_NET_D': True,\n",
            "           'DISCRIMINATOR_LR': 0.0002,\n",
            "           'ENCODER_LR': 0.002,\n",
            "           'FLAG': True,\n",
            "           'GENERATOR_LR': 0.0002,\n",
            "           'MAX_EPOCH': 600,\n",
            "           'NET_C': '',\n",
            "           'NET_D': '',\n",
            "           'NET_E': '',\n",
            "           'NET_G': '',\n",
            "           'RNN_GRAD_CLIP': 0.25,\n",
            "           'SMOOTH': {'GAMMA1': 4.0,\n",
            "                      'GAMMA2': 5.0,\n",
            "                      'GAMMA3': 10.0,\n",
            "                      'LAMBDA': 1.0},\n",
            "           'SNAPSHOT_INTERVAL': 5},\n",
            " 'TREE': {'BASE_SIZE': 299, 'BRANCH_NUM': 3},\n",
            " 'WORKERS': 1}\n",
            "/usr/local/lib/python3.7/dist-packages/torchvision/transforms/transforms.py:317: UserWarning: The use of the transforms.Scale transform is deprecated, please use transforms.Resize instead.\n",
            "  warnings.warn(\"The use of the transforms.Scale transform is deprecated, \" +\n",
            "Load filenames from: ../data/coco/train/filenames.pickle (82783)\n",
            "Load filenames from: ../data/coco/test/filenames.pickle (40470)\n",
            "filepath ../data/coco/captions.pickle\n",
            "Load from:  ../data/coco/captions.pickle\n",
            "27297 5\n",
            "Load filenames from: ../data/coco/train/filenames.pickle (82783)\n",
            "Load filenames from: ../data/coco/test/filenames.pickle (40470)\n",
            "filepath ../data/coco/captions.pickle\n",
            "Load from:  ../data/coco/captions.pickle\n",
            "/usr/local/lib/python3.7/dist-packages/torch/nn/modules/rnn.py:65: UserWarning: dropout option adds dropout after all but last recurrent layer, so non-zero dropout expects num_layers greater than 1, but got dropout=0.5 and num_layers=1\n",
            "  \"num_layers={}\".format(dropout, num_layers))\n",
            "/usr/local/lib/python3.7/dist-packages/torchvision/models/inception.py:83: FutureWarning: The default weight initialization of inception_v3 will be changed in future releases of torchvision. If you wish to keep the old behavior (which leads to long initialization times due to scipy/scipy#11299), please set init_weights=True.\n",
            "  ' due to scipy/scipy#11299), please set init_weights=True.', FutureWarning)\n",
            "Load pretrained model from  https://download.pytorch.org/models/inception_v3_google-1a9a5a14.pth\n",
            "/usr/local/lib/python3.7/dist-packages/torch/nn/functional.py:3635: UserWarning: Default upsampling behavior when mode=bilinear is changed to align_corners=False since 0.4.0. Please specify align_corners=True if the old behavior is desired. See the documentation of nn.Upsample for details.\n",
            "  \"See the documentation of nn.Upsample for details.\".format(mode)\n",
            "/content/Lightweight-Manipulation/code/attention.py:22: UserWarning: Implicit dimension choice for softmax has been deprecated. Change the call to include dim=X as an argument.\n",
            "  attn = nn.Softmax()(attn)\n",
            "/content/Lightweight-Manipulation/code/attention.py:27: UserWarning: Implicit dimension choice for softmax has been deprecated. Change the call to include dim=X as an argument.\n",
            "  attn = nn.Softmax()(attn)\n",
            "pretrain_DAMSM.py:86: UserWarning: torch.nn.utils.clip_grad_norm is now deprecated in favor of torch.nn.utils.clip_grad_norm_.\n",
            "  cfg.TRAIN.RNN_GRAD_CLIP)\n",
            "| epoch   0 |     0/ 1724 batches | ms/batch 21.76 | s_loss  0.02  0.02 | w_loss  0.03  0.02\n",
            "Traceback (most recent call last):\n",
            "  File \"/usr/local/lib/python3.7/dist-packages/PIL/Image.py\", line 2714, in fromarray\n",
            "    mode, rawmode = _fromarray_typemap[typekey]\n",
            "KeyError: ((1, 1, 48), '|u1')\n",
            "\n",
            "During handling of the above exception, another exception occurred:\n",
            "\n",
            "Traceback (most recent call last):\n",
            "  File \"pretrain_DAMSM.py\", line 254, in <module>\n",
            "    dataset.ixtoword, image_dir)\n",
            "  File \"pretrain_DAMSM.py\", line 113, in train\n",
            "    ixtoword, attn_maps, att_sze)\n",
            "  File \"/content/Lightweight-Manipulation/code/miscc/utils.py\", line 140, in build_super_images\n",
            "    PIL_att = Image.fromarray(np.uint8(one_map))\n",
            "  File \"/usr/local/lib/python3.7/dist-packages/PIL/Image.py\", line 2716, in fromarray\n",
            "    raise TypeError(\"Cannot handle this data type: %s, %s\" % typekey)\n",
            "TypeError: Cannot handle this data type: (1, 1, 48), |u1\n"
          ]
        }
      ]
    }
  ]
}